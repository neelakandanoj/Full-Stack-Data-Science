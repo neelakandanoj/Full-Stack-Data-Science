{
 "cells": [
  {
   "cell_type": "code",
   "execution_count": 3,
   "metadata": {},
   "outputs": [
    {
     "name": "stdout",
     "output_type": "stream",
     "text": [
      "Not eligible to vote\n"
     ]
    }
   ],
   "source": [
    "age=int(input(\"enter your age\"))\n",
    "if age>=18:\n",
    "    print('You are eligible for voting')\n",
    "else:\n",
    "    print(\"Not eligible to vote\")"
   ]
  },
  {
   "cell_type": "code",
   "execution_count": 5,
   "metadata": {},
   "outputs": [
    {
     "name": "stdout",
     "output_type": "stream",
     "text": [
      "You are teenager\n"
     ]
    }
   ],
   "source": [
    "# Elif statement\n",
    "age=17\n",
    "if age<13:\n",
    "    print(\"Hey you are a child.\")\n",
    "elif age<18:\n",
    "    print(\"You are teenager\")\n",
    "else:\n",
    "    print(\"You are a adult.\")"
   ]
  },
  {
   "cell_type": "code",
   "execution_count": 10,
   "metadata": {},
   "outputs": [
    {
     "name": "stdout",
     "output_type": "stream",
     "text": [
      "Number is Zero or Negative\n"
     ]
    }
   ],
   "source": [
    "## Nested Conditional statements\n",
    "num=int(input(\"Enter the number: \"))\n",
    "if num>0:\n",
    "    print(\"Number is positive.\")\n",
    "    if num%2==0:\n",
    "        print(\"Number is even.\")\n",
    "    else:\n",
    "        print(\"Number is Odd.\")\n",
    "else:\n",
    "    print(\"Number is Zero or Negative\")\n"
   ]
  },
  {
   "cell_type": "markdown",
   "metadata": {},
   "source": [
    "## **Assignmaent**"
   ]
  },
  {
   "cell_type": "code",
   "execution_count": 12,
   "metadata": {},
   "outputs": [
    {
     "name": "stdout",
     "output_type": "stream",
     "text": [
      "2020 is Leap Year\n"
     ]
    }
   ],
   "source": [
    "## Usecases\n",
    "#Leap year\n",
    "\n",
    "year=int(input(\"Enter the year\"))\n",
    "if (year % 4 == 0):\n",
    "    if (year % 100==0):\n",
    "        if(year%400==0):\n",
    "            print(f\"{year} is Leap Year\")\n",
    "        else:\n",
    "            print(f\"{year} is not a leap year.\")\n",
    "    else:\n",
    "        print(f\"{year} is Leap Year\")\n",
    "else:\n",
    "    print(f\"{year} is not a Leap Year\")\n",
    "\n",
    "    "
   ]
  },
  {
   "cell_type": "code",
   "execution_count": null,
   "metadata": {},
   "outputs": [],
   "source": []
  }
 ],
 "metadata": {
  "kernelspec": {
   "display_name": ".venv",
   "language": "python",
   "name": "python3"
  },
  "language_info": {
   "codemirror_mode": {
    "name": "ipython",
    "version": 3
   },
   "file_extension": ".py",
   "mimetype": "text/x-python",
   "name": "python",
   "nbconvert_exporter": "python",
   "pygments_lexer": "ipython3",
   "version": "3.11.3"
  }
 },
 "nbformat": 4,
 "nbformat_minor": 2
}
