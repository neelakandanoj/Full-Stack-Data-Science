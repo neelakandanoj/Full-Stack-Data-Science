{
 "cells": [
  {
   "cell_type": "code",
   "execution_count": 8,
   "metadata": {},
   "outputs": [
    {
     "name": "stdout",
     "output_type": "stream",
     "text": [
      "addition : 1050\n",
      "Substraction:  750\n",
      "Multiple:  135000\n",
      "Division : 6.0\n",
      "floor division 6\n",
      "Modulas 0\n",
      "Exponent 136891479058588375991326027382088315966463695625337436471480190078368997177499076593800206155688941388250484440597994042813512732765695774566001000000000000000000000000000000000000000000000000000000000000000000000000000000000000000000000000000000000000000000000000000000000000000000000000000000000000000000000000000000000000000000000000000000000000000000000000000000000000000000000000000000000000000000000000000000000000000000000000000000000000\n"
     ]
    }
   ],
   "source": [
    "## Additions\n",
    "\n",
    "a=900\n",
    "b=150\n",
    "add_result=a+b\n",
    "sub_result=a-b\n",
    "mult_result=a*b\n",
    "div_result=a / b\n",
    "floor_result=a // b\n",
    "mod_result=a % b\n",
    "exp_result=a ** b\n",
    "print(\"addition :\",add_result)\n",
    "print(\"Substraction: \",sub_result)\n",
    "print(\"Multiple: \",mult_result)\n",
    "print(\"Division :\",div_result)\n",
    "print(\"floor division\",floor_result)\n",
    "print(\"Modulas\",mod_result)\n",
    "print(\"Exponent\",exp_result)"
   ]
  },
  {
   "cell_type": "code",
   "execution_count": null,
   "metadata": {},
   "outputs": [],
   "source": [
    "#"
   ]
  }
 ],
 "metadata": {
  "kernelspec": {
   "display_name": ".venv",
   "language": "python",
   "name": "python3"
  },
  "language_info": {
   "codemirror_mode": {
    "name": "ipython",
    "version": 3
   },
   "file_extension": ".py",
   "mimetype": "text/x-python",
   "name": "python",
   "nbconvert_exporter": "python",
   "pygments_lexer": "ipython3",
   "version": "3.11.3"
  }
 },
 "nbformat": 4,
 "nbformat_minor": 2
}
