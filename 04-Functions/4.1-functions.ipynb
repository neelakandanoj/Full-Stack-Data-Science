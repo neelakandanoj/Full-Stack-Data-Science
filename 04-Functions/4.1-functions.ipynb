{
 "cells": [
  {
   "cell_type": "code",
   "execution_count": 1,
   "metadata": {},
   "outputs": [],
   "source": [
    "## Syntax\n",
    "\n",
    "def function_name(para):\n",
    "    expression=0\n",
    "    return expression\n"
   ]
  },
  {
   "cell_type": "code",
   "execution_count": 2,
   "metadata": {},
   "outputs": [],
   "source": [
    "def even_or_odd(num):\n",
    "    \"\"\"This function finds even or odd\"\"\"\n",
    "    if num%2==0:\n",
    "        print(f\"{num} is even\")\n",
    "    else:\n",
    "        print(\"this is odd\")"
   ]
  },
  {
   "cell_type": "code",
   "execution_count": 4,
   "metadata": {},
   "outputs": [
    {
     "name": "stdout",
     "output_type": "stream",
     "text": [
      "8 is even\n"
     ]
    }
   ],
   "source": [
    "even_or_odd(8)"
   ]
  },
  {
   "cell_type": "code",
   "execution_count": 5,
   "metadata": {},
   "outputs": [
    {
     "name": "stdout",
     "output_type": "stream",
     "text": [
      "5\n"
     ]
    }
   ],
   "source": [
    "def add(a,b):\n",
    "    return(a+b)\n",
    "result=add(2,3)\n",
    "print(result)"
   ]
  },
  {
   "cell_type": "code",
   "execution_count": 6,
   "metadata": {},
   "outputs": [
    {
     "name": "stdout",
     "output_type": "stream",
     "text": [
      "Hello Ram\n"
     ]
    }
   ],
   "source": [
    "## Default Parameters\n",
    "\n",
    "def great(name):\n",
    "    print(f\"Hello {name}\")\n",
    "\n",
    "great(\"Ram\")"
   ]
  },
  {
   "cell_type": "code",
   "execution_count": null,
   "metadata": {},
   "outputs": [],
   "source": []
  }
 ],
 "metadata": {
  "kernelspec": {
   "display_name": ".venv",
   "language": "python",
   "name": "python3"
  },
  "language_info": {
   "codemirror_mode": {
    "name": "ipython",
    "version": 3
   },
   "file_extension": ".py",
   "mimetype": "text/x-python",
   "name": "python",
   "nbconvert_exporter": "python",
   "pygments_lexer": "ipython3",
   "version": "3.11.3"
  }
 },
 "nbformat": 4,
 "nbformat_minor": 2
}
