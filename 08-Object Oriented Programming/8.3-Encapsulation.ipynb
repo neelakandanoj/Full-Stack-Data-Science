{
 "cells": [
  {
   "cell_type": "code",
   "execution_count": 3,
   "metadata": {},
   "outputs": [
    {
     "name": "stdout",
     "output_type": "stream",
     "text": [
      "Neel\n"
     ]
    },
    {
     "data": {
      "text/plain": [
       "'Neel'"
      ]
     },
     "execution_count": 3,
     "metadata": {},
     "output_type": "execute_result"
    }
   ],
   "source": [
    "## Encapsulation\n",
    "### Public,  protected, Private\n",
    "\n",
    "class Person:\n",
    "    def __init__(self,name,age):\n",
    "        #public\n",
    "        self.name=name\n",
    "        self.age=age\n",
    "\n",
    "def get_name(person):\n",
    "        return person.name\n",
    "    \n",
    "person=Person(\"Neel\",23)\n",
    "print(person.name)\n",
    "get_name(person)\n"
   ]
  },
  {
   "cell_type": "code",
   "execution_count": 8,
   "metadata": {},
   "outputs": [
    {
     "name": "stdout",
     "output_type": "stream",
     "text": [
      "M\n"
     ]
    },
    {
     "ename": "AttributeError",
     "evalue": "'Person' object has no attribute '__name'",
     "output_type": "error",
     "traceback": [
      "\u001b[1;31m---------------------------------------------------------------------------\u001b[0m",
      "\u001b[1;31mAttributeError\u001b[0m                            Traceback (most recent call last)",
      "Cell \u001b[1;32mIn[8], line 14\u001b[0m\n\u001b[0;32m     12\u001b[0m \u001b[38;5;66;03m# print(person.name)\u001b[39;00m\n\u001b[0;32m     13\u001b[0m \u001b[38;5;28mprint\u001b[39m(person\u001b[38;5;241m.\u001b[39mgender)\n\u001b[1;32m---> 14\u001b[0m \u001b[43mget_name\u001b[49m\u001b[43m(\u001b[49m\u001b[43mperson\u001b[49m\u001b[43m)\u001b[49m\n",
      "Cell \u001b[1;32mIn[8], line 9\u001b[0m, in \u001b[0;36mget_name\u001b[1;34m(person)\u001b[0m\n\u001b[0;32m      8\u001b[0m \u001b[38;5;28;01mdef\u001b[39;00m \u001b[38;5;21mget_name\u001b[39m(person):\n\u001b[1;32m----> 9\u001b[0m         \u001b[38;5;28;01mreturn\u001b[39;00m \u001b[43mperson\u001b[49m\u001b[38;5;241;43m.\u001b[39;49m\u001b[43m__name\u001b[49m\n",
      "\u001b[1;31mAttributeError\u001b[0m: 'Person' object has no attribute '__name'"
     ]
    }
   ],
   "source": [
    "class Person:\n",
    "    def __init__(self,name,age,gender):\n",
    "        # Private\n",
    "        self.__name=name\n",
    "        self.__age=age\n",
    "        self.gender=gender\n",
    "    \n",
    "def get_name(person):\n",
    "        return person.__name\n",
    "    \n",
    "person=Person(\"Neel\",23,'M')\n",
    "# print(person.name)\n",
    "print(person.gender)\n",
    "get_name(person)\n",
    "\n"
   ]
  },
  {
   "cell_type": "code",
   "execution_count": 16,
   "metadata": {},
   "outputs": [
    {
     "name": "stdout",
     "output_type": "stream",
     "text": [
      "Krish\n"
     ]
    }
   ],
   "source": [
    "class Person:\n",
    "    def __init__(self,name,age,gender):\n",
    "        # Protected\n",
    "        self._name=name\n",
    "        self._age=age\n",
    "        self.gender=gender\n",
    "\n",
    "class Employee(Person):\n",
    "     def __init__(self, name, age, gender):\n",
    "          super().__init__(name, age, gender)\n",
    "    \n",
    "emp=Employee('Krish',23,'Male')\n",
    "print(emp._name)\n",
    "\n"
   ]
  },
  {
   "cell_type": "code",
   "execution_count": 26,
   "metadata": {},
   "outputs": [
    {
     "name": "stdout",
     "output_type": "stream",
     "text": [
      "Neelan\n",
      "the age is 23\n",
      "the age is 34\n",
      "Age cannot be negative.\n"
     ]
    },
    {
     "data": {
      "text/plain": [
       "'the age is 34'"
      ]
     },
     "execution_count": 26,
     "metadata": {},
     "output_type": "execute_result"
    }
   ],
   "source": [
    "## Encapsulation with getter and setter\n",
    "\n",
    "class Person:\n",
    "    def __init__(self,name,age) -> None:\n",
    "        self.__name=name ##Private access modifier or variables\n",
    "        self.__age=age\n",
    "\n",
    "    #getter method of name\n",
    "    def get_name(self):\n",
    "        return self.__name\n",
    "\n",
    "    ##setter method for name\n",
    "    def set_name(self,name):\n",
    "        self.__name=name\n",
    "\n",
    "    ##getter of age\n",
    "    def get_age(self):\n",
    "        return f\"the age is {self.__age}\"\n",
    "    \n",
    "    ##Setter of age\n",
    "\n",
    "    def set_age(self,age):\n",
    "        if age>0:\n",
    "            self.__age=age\n",
    "        else:\n",
    "            print(\"Age cannot be negative.\")\n",
    "person=Person(\"Neelan\",23)\n",
    "\n",
    "## Accessing and modify private variable using getter and setter\n",
    "print(person.get_name())\n",
    "print(person.get_age())\n",
    "\n",
    "\n",
    "person.set_age(34)\n",
    "print(person.get_age())\n",
    "person.set_age(-50)\n",
    "person.get_age()"
   ]
  },
  {
   "cell_type": "code",
   "execution_count": null,
   "metadata": {},
   "outputs": [],
   "source": []
  }
 ],
 "metadata": {
  "kernelspec": {
   "display_name": ".venv",
   "language": "python",
   "name": "python3"
  },
  "language_info": {
   "codemirror_mode": {
    "name": "ipython",
    "version": 3
   },
   "file_extension": ".py",
   "mimetype": "text/x-python",
   "name": "python",
   "nbconvert_exporter": "python",
   "pygments_lexer": "ipython3",
   "version": "3.12.5"
  }
 },
 "nbformat": 4,
 "nbformat_minor": 2
}
