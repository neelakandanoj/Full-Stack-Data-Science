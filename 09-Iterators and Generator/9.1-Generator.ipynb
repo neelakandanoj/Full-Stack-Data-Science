{
 "cells": [
  {
   "cell_type": "code",
   "execution_count": 5,
   "metadata": {},
   "outputs": [
    {
     "name": "stdout",
     "output_type": "stream",
     "text": [
      "0\n",
      "1\n",
      "4\n"
     ]
    }
   ],
   "source": [
    "## Generator\n",
    "\n",
    "def square(n):\n",
    "    for i in range(n):\n",
    "        yield i**2\n",
    "for i in square(3):\n",
    "    print(i)\n"
   ]
  },
  {
   "cell_type": "code",
   "execution_count": 6,
   "metadata": {},
   "outputs": [
    {
     "name": "stdout",
     "output_type": "stream",
     "text": [
      "1\n",
      "2\n",
      "3\n"
     ]
    }
   ],
   "source": [
    "def my_generator():\n",
    "    yield 1\n",
    "    yield 2\n",
    "    yield 3\n",
    "for i in my_generator():\n",
    "    print(i)"
   ]
  },
  {
   "cell_type": "markdown",
   "metadata": {},
   "source": [
    "## Generator are particularly useful for reading large files because they allow you to process one line at a time without loading the entire file into memory."
   ]
  },
  {
   "cell_type": "code",
   "execution_count": 10,
   "metadata": {},
   "outputs": [
    {
     "name": "stdout",
     "output_type": "stream",
     "text": [
      "1. What is Python?\n",
      "Python is a high-level, interpreted programming language known for its simplicity and\n",
      "readability. It emphasizes code readability and encourages a clean and concise coding style.\n",
      "2. What are the key features of Python?\n",
      "Key features of Python include its easy-to-read syntax, dynamic typing, automatic memory\n",
      "management, extensive standard library, and support for multiple programming paradigms.\n",
      "3. How is Python different from other programming languages?\n",
      "Python stands out with its simplicity, readability, and easy-to-understand syntax. It has a\n",
      "large and active community, extensive libraries, and is widely used in various domains such\n",
      "as web development, data analysis, and scientific computing.\n",
      "4. What is PEP 8?\n",
      "PEP 8 is the official style guide for Python code. It provides guidelines on how to format\n",
      "Python code to enhance readability and maintain consistency across projects.\n",
      "5. What are Python modules?\n",
      "Python modules are files containing Python code that define functions, classes, and variables.\n",
      "They allow code reuse and organization, making it easier to manage and maintain larger\n",
      "projects.\n",
      "6. What is a Python package?\n",
      "A Python package is a way to organize related modules into a directory hierarchy. It allows\n",
      "for a logical grouping of modules, making it easier to manage and distribute code.\n",
      "7. How do you comment in Python?\n",
      "Comments in Python are denoted by the # character. Anything after the # is considered a\n",
      "comment and is ignored by the Python interpreter.\n",
      "8. What are Python data types?\n",
      "\n",
      "Python supports various data types, including integers, floating-point numbers, strings, lists,\n",
      "tuples, dictionaries, and booleans. Each data type has its own characteristics and uses.\n",
      "9. What is type conversion in Python?\n",
      "Type conversion, also known as type casting, is the process of converting one data type into\n",
      "another. Python provides built-in functions like int(), float(), str(), etc., to perform type\n",
      "conversion.\n",
      "10. What is string interpolation in Python?\n",
      "String interpolation in Python allows you to embed expressions or variables within a string,\n",
      "making it easier to construct dynamic strings. It can be done using f-strings or the format()\n",
      "method.\n",
      "11. What are Python conditional statements?\n",
      "Python conditional statements, such as if, elif, and else, allow you to perform different\n",
      "actions based on certain conditions. They control the flow of the program based on the\n",
      "truthfulness of the conditions.\n",
      "12. What are Python loops?\n",
      "Python loops, like for and while, enable you to execute a block of code repeatedly. They\n",
      "iterate over a sequence or execute until a specific condition is met.\n",
      "13. What is the difference between range() and xrange() in Python 2?\n",
      "In Python 2, range() generates a list of numbers, while xrange() returns an iterator. xrange() is\n",
      "more memory-efficient for large ranges because it generates values on the fly.\n",
      "14. What are Python functions?\n",
      "Python functions are reusable blocks of code that perform a specific task. They help in code\n",
      "organization, reusability, and modularity. Functions can accept arguments and return values.\n",
      "15. What is the difference between a function and a method in Python?\n",
      "In Python, a function is a standalone block of code that can be called independently. A\n",
      "method, on the other hand, is a function that is associated with an object or a class and can\n",
      "access the object's data.\n",
      "16. How do you define a function in Python?\n",
      "A function in Python is defined using the def keyword, followed by the function name,\n",
      "parentheses for parameters (if any), and a colon. The function body is indented below.\n"
     ]
    }
   ],
   "source": [
    "## Practical Examples: Reading large files\n",
    "\n",
    "def read_large_file(file_path):\n",
    "    with open(file_path,'r') as file:\n",
    "        for line in file:\n",
    "            yield line\n",
    "file_path=r\"C:\\Users\\neela\\OneDrive\\Desktop\\DataScientists\\Full-Stack-Data-Science\\09-Iterators and Generator\\text.txt\"\n",
    "for i in read_large_file(file_path):\n",
    "    print(i.strip())\n"
   ]
  },
  {
   "cell_type": "code",
   "execution_count": 5,
   "metadata": {},
   "outputs": [
    {
     "name": "stdout",
     "output_type": "stream",
     "text": [
      "0 1\n"
     ]
    }
   ],
   "source": [
    "x=1\n",
    "y=x\n",
    "x=0\n",
    "print(x,y)"
   ]
  },
  {
   "cell_type": "code",
   "execution_count": null,
   "metadata": {},
   "outputs": [],
   "source": []
  }
 ],
 "metadata": {
  "kernelspec": {
   "display_name": ".venv",
   "language": "python",
   "name": "python3"
  },
  "language_info": {
   "codemirror_mode": {
    "name": "ipython",
    "version": 3
   },
   "file_extension": ".py",
   "mimetype": "text/x-python",
   "name": "python",
   "nbconvert_exporter": "python",
   "pygments_lexer": "ipython3",
   "version": "3.12.5"
  }
 },
 "nbformat": 4,
 "nbformat_minor": 2
}
