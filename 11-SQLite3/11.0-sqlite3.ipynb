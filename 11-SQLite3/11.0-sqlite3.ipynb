{
 "cells": [
  {
   "cell_type": "code",
   "execution_count": 1,
   "metadata": {},
   "outputs": [
    {
     "data": {
      "text/plain": [
       "<sqlite3.Connection at 0x255adc867a0>"
      ]
     },
     "execution_count": 1,
     "metadata": {},
     "output_type": "execute_result"
    }
   ],
   "source": [
    "## connecting the database\n",
    "import sqlite3\n",
    "conn=sqlite3.connect('Example.db')\n",
    "conn"
   ]
  },
  {
   "cell_type": "code",
   "execution_count": 2,
   "metadata": {},
   "outputs": [],
   "source": [
    "## iterate tables, rows\n",
    "cursor=conn.cursor()"
   ]
  },
  {
   "cell_type": "code",
   "execution_count": 3,
   "metadata": {},
   "outputs": [],
   "source": [
    "## Creating tables\n",
    "\n",
    "cursor.execute('''\n",
    "Create table if not exists employee(\n",
    "               id Integer Primary Key,\n",
    "               name Text not null,\n",
    "               age Integer,\n",
    "               department text\n",
    "               )\n",
    "''')\n",
    "##Commiting the tables\n",
    "conn.commit()"
   ]
  },
  {
   "cell_type": "code",
   "execution_count": 4,
   "metadata": {},
   "outputs": [
    {
     "data": {
      "text/plain": [
       "<sqlite3.Cursor at 0x255ae00f7c0>"
      ]
     },
     "execution_count": 4,
     "metadata": {},
     "output_type": "execute_result"
    }
   ],
   "source": [
    "cursor.execute(\"\"\"Select * from employee\"\"\")"
   ]
  },
  {
   "cell_type": "code",
   "execution_count": 5,
   "metadata": {},
   "outputs": [],
   "source": [
    "## Insert the data in the table\n",
    "\n",
    "cursor.execute(\"\"\"\n",
    "Insert into employee(name,age,department)values('Krish',32,'DataScientists'),('John',30,'Maths'),('Neel',23,'Softwareengineer')\n",
    "               \"\"\")\n",
    "conn.commit()"
   ]
  },
  {
   "cell_type": "code",
   "execution_count": 6,
   "metadata": {},
   "outputs": [
    {
     "name": "stdout",
     "output_type": "stream",
     "text": [
      "(1, 'Krish', 32, 'DataScientists')\n",
      "(2, 'John', 30, 'Maths')\n",
      "(3, 'Neel', 23, 'Softwareengineer')\n"
     ]
    }
   ],
   "source": [
    "cursor.execute(\"\"\"select * from employee\"\"\")\n",
    "rows=cursor.fetchall()\n",
    "\n",
    "##Printing the data\n",
    "for r in rows:\n",
    "    print(r)"
   ]
  },
  {
   "cell_type": "code",
   "execution_count": 7,
   "metadata": {},
   "outputs": [],
   "source": [
    "## Update the data in the tables\n",
    "\n",
    "cursor.execute(\"\"\"\n",
    "                update employee\n",
    "                set age=34\n",
    "                where name='Krish'\n",
    "\"\"\")\n",
    "conn.commit()"
   ]
  },
  {
   "cell_type": "code",
   "execution_count": 8,
   "metadata": {},
   "outputs": [
    {
     "name": "stdout",
     "output_type": "stream",
     "text": [
      "(1, 'Krish', 34, 'DataScientists')\n",
      "(2, 'John', 30, 'Maths')\n",
      "(3, 'Neel', 23, 'Softwareengineer')\n"
     ]
    }
   ],
   "source": [
    "cursor.execute(\"\"\"select * from employee\"\"\")\n",
    "rows=cursor.fetchall()\n",
    "\n",
    "##Printing the data\n",
    "for r in rows:\n",
    "    print(r)"
   ]
  },
  {
   "cell_type": "code",
   "execution_count": 9,
   "metadata": {},
   "outputs": [],
   "source": [
    "## Deleting the data from the tables\n",
    "cursor.execute(\"\"\"\n",
    "        delete from employee\n",
    "        where name='John' \n",
    "\"\"\")\n",
    "conn.commit()"
   ]
  },
  {
   "cell_type": "code",
   "execution_count": 10,
   "metadata": {},
   "outputs": [
    {
     "name": "stdout",
     "output_type": "stream",
     "text": [
      "(1, 'Krish', 34, 'DataScientists')\n",
      "(3, 'Neel', 23, 'Softwareengineer')\n"
     ]
    }
   ],
   "source": [
    "cursor.execute(\"\"\"select * from employee\"\"\")\n",
    "rows=cursor.fetchall()\n",
    "\n",
    "##Printing the data\n",
    "for r in rows:\n",
    "    print(r)"
   ]
  },
  {
   "cell_type": "code",
   "execution_count": 15,
   "metadata": {},
   "outputs": [],
   "source": [
    "## Working with sales data\n",
    "\n",
    "## connect the database\n",
    "connection=sqlite3.connect('Sales_data.db')\n",
    "cursor=connection.cursor()\n",
    "\n",
    "## create a table sales data\n",
    "cursor.execute(\"\"\"\n",
    "Create table if not exists sales(\n",
    "               id INT Primary Key,\n",
    "               date Text Not Null,\n",
    "               product Test not null,\n",
    "               sales INTeger,\n",
    "               region Text)\n",
    "\"\"\")\n",
    "\n",
    "sales_data=[\n",
    "    ('2023-01-21','Prod1',123,'South'),\n",
    "    ('2023-02-21','Prod2',230,'South'),\n",
    "    ('2023-03-21','Prod3',55,'South'),\n",
    "    ('2023-04-21','Prod4',3,'South')\n",
    "]\n",
    "## Inserting the data\n",
    "cursor.executemany('''\n",
    "Insert into sales (date,product,sales,region)values(?,?,?,?)                  \n",
    "''',sales_data)\n",
    "\n",
    "connection.commit()"
   ]
  },
  {
   "cell_type": "code",
   "execution_count": 17,
   "metadata": {},
   "outputs": [
    {
     "name": "stdout",
     "output_type": "stream",
     "text": [
      "(None, '2023-01-21', 'Prod1', 123, 'South')\n",
      "(None, '2023-02-21', 'Prod2', 230, 'South')\n",
      "(None, '2023-03-21', 'Prod3', 55, 'South')\n",
      "(None, '2023-04-21', 'Prod4', 3, 'South')\n"
     ]
    }
   ],
   "source": [
    "cursor.execute(\"\"\"select * from sales\"\"\")\n",
    "rows=cursor.fetchall()\n",
    "\n",
    "##Printing the data\n",
    "for r in rows:\n",
    "    print(r)"
   ]
  },
  {
   "cell_type": "code",
   "execution_count": null,
   "metadata": {},
   "outputs": [],
   "source": []
  }
 ],
 "metadata": {
  "kernelspec": {
   "display_name": ".venv",
   "language": "python",
   "name": "python3"
  },
  "language_info": {
   "codemirror_mode": {
    "name": "ipython",
    "version": 3
   },
   "file_extension": ".py",
   "mimetype": "text/x-python",
   "name": "python",
   "nbconvert_exporter": "python",
   "pygments_lexer": "ipython3",
   "version": "3.12.5"
  }
 },
 "nbformat": 4,
 "nbformat_minor": 2
}
